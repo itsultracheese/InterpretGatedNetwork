{
 "cells": [
  {
   "cell_type": "code",
   "execution_count": 45,
   "metadata": {},
   "outputs": [],
   "source": [
    "import os\n",
    "import json\n",
    "\n",
    "import numpy as np\n",
    "import pandas as pd\n",
    "import matplotlib.pyplot as plt\n",
    "\n",
    "import antropy as ant\n",
    "\n",
    "from tqdm.notebook import tqdm"
   ]
  },
  {
   "cell_type": "code",
   "execution_count": 2,
   "metadata": {},
   "outputs": [],
   "source": [
    "from data_provider.data_loader import UEAloader"
   ]
  },
  {
   "cell_type": "code",
   "execution_count": 53,
   "metadata": {},
   "outputs": [],
   "source": [
    "def compute_perm_entropy(d):\n",
    "    entropies = []\n",
    "    for i in tqdm(range(len(d))):\n",
    "        sample_entropies = []\n",
    "        for j in range(d[i][0].shape[1]):\n",
    "            sample_entropies.append(ant.perm_entropy(d[i][0][:, j]))\n",
    "        entropies.append(np.mean(sample_entropies))\n",
    "    return entropies\n",
    "\n",
    "def compute_hjorth(d):\n",
    "    complexities = []\n",
    "    for i in tqdm(range(len(d))):\n",
    "        c = ant.hjorth_params(d[i][0])[1]\n",
    "        complexities.append(np.mean(c))\n",
    "    return complexities\n",
    "\n",
    "def compute_higuchi_fd(d):\n",
    "    fds = []\n",
    "    for i in tqdm(range(len(d))):\n",
    "        sample_fds = []\n",
    "        for j in range(d[i][0].shape[1]):\n",
    "            sample_fds.append(ant.higuchi_fd(d[i][0][:, j]))\n",
    "        fds.append(np.mean(sample_fds))\n",
    "    return fds"
   ]
  },
  {
   "cell_type": "code",
   "execution_count": 3,
   "metadata": {},
   "outputs": [
    {
     "name": "stderr",
     "output_type": "stream",
     "text": [
      "/home/amiftakhova/bimai/InterpretGatedNetwork/data_provider/data_loader.py:676: FutureWarning: DataFrame.applymap has been deprecated. Use DataFrame.map instead.\n",
      "  lengths = df.applymap(\n",
      "/home/amiftakhova/bimai/InterpretGatedNetwork/data_provider/data_loader.py:684: FutureWarning: DataFrame.applymap has been deprecated. Use DataFrame.map instead.\n",
      "  lengths = df.applymap(lambda x: len(x)).values\n"
     ]
    },
    {
     "name": "stdout",
     "output_type": "stream",
     "text": [
      "5890\n"
     ]
    }
   ],
   "source": [
    "root_path = '/media/ssd-3t/amiftakhova/bimai/FaceDetection'\n",
    "data = UEAloader(root_path, flag=\"TRAIN\")"
   ]
  },
  {
   "cell_type": "code",
   "execution_count": 37,
   "metadata": {},
   "outputs": [
    {
     "name": "stdout",
     "output_type": "stream",
     "text": [
      "2.515642532567791\n",
      "0.019748238715846154\n"
     ]
    }
   ],
   "source": [
    "ent = compute_perm_entropy(data)\n",
    "print(np.mean(ent))\n",
    "print(np.std(ent))"
   ]
  },
  {
   "cell_type": "code",
   "execution_count": 47,
   "metadata": {},
   "outputs": [
    {
     "data": {
      "application/vnd.jupyter.widget-view+json": {
       "model_id": "084f163cb728461a9668653fcd0cb884",
       "version_major": 2,
       "version_minor": 0
      },
      "text/plain": [
       "  0%|          | 0/5890 [00:00<?, ?it/s]"
      ]
     },
     "metadata": {},
     "output_type": "display_data"
    },
    {
     "name": "stdout",
     "output_type": "stream",
     "text": [
      "1.2168366226257967\n",
      "0.012577017694070089\n"
     ]
    }
   ],
   "source": [
    "hjorth_comp = compute_hjorth(data)\n",
    "print(np.mean(hjorth_comp))\n",
    "print(np.std(hjorth_comp))"
   ]
  },
  {
   "cell_type": "code",
   "execution_count": 54,
   "metadata": {},
   "outputs": [
    {
     "data": {
      "application/vnd.jupyter.widget-view+json": {
       "model_id": "c95fbbb35e36433f8a07d327302b8bf1",
       "version_major": 2,
       "version_minor": 0
      },
      "text/plain": [
       "  0%|          | 0/5890 [00:00<?, ?it/s]"
      ]
     },
     "metadata": {},
     "output_type": "display_data"
    },
    {
     "name": "stdout",
     "output_type": "stream",
     "text": [
      "1.9492441026199425\n",
      "0.06505270073870084\n"
     ]
    }
   ],
   "source": [
    "higuchi_fd = compute_higuchi_fd(data)\n",
    "print(np.mean(higuchi_fd))\n",
    "print(np.std(higuchi_fd))"
   ]
  },
  {
   "cell_type": "code",
   "execution_count": 52,
   "metadata": {},
   "outputs": [
    {
     "name": "stdout",
     "output_type": "stream",
     "text": [
      "1.8769572910643006\n"
     ]
    }
   ],
   "source": [
    "print(ant.higuchi_fd(data[0][0][:, 0]))"
   ]
  },
  {
   "cell_type": "code",
   "execution_count": 38,
   "metadata": {},
   "outputs": [
    {
     "name": "stderr",
     "output_type": "stream",
     "text": [
      "/home/amiftakhova/bimai/InterpretGatedNetwork/data_provider/data_loader.py:676: FutureWarning: DataFrame.applymap has been deprecated. Use DataFrame.map instead.\n",
      "  lengths = df.applymap(\n",
      "/home/amiftakhova/bimai/InterpretGatedNetwork/data_provider/data_loader.py:684: FutureWarning: DataFrame.applymap has been deprecated. Use DataFrame.map instead.\n",
      "  lengths = df.applymap(lambda x: len(x)).values\n"
     ]
    },
    {
     "name": "stdout",
     "output_type": "stream",
     "text": [
      "268\n",
      "2.1134634069119542\n",
      "0.12540640259687602\n"
     ]
    }
   ],
   "source": [
    "root_path = '/media/ssd-3t/amiftakhova/bimai/SelfRegulationSCP1'\n",
    "scp1_data = UEAloader(root_path, flag=\"TRAIN\")\n",
    "\n",
    "ent = compute_perm_entropy(scp1_data)\n",
    "print(np.mean(ent))\n",
    "print(np.std(ent))"
   ]
  },
  {
   "cell_type": "code",
   "execution_count": 48,
   "metadata": {},
   "outputs": [
    {
     "data": {
      "application/vnd.jupyter.widget-view+json": {
       "model_id": "fe3376714bd848d885dc4d01ea8386c4",
       "version_major": 2,
       "version_minor": 0
      },
      "text/plain": [
       "  0%|          | 0/268 [00:00<?, ?it/s]"
      ]
     },
     "metadata": {},
     "output_type": "display_data"
    },
    {
     "name": "stdout",
     "output_type": "stream",
     "text": [
      "1.361768036810239\n",
      "0.09512315442170151\n"
     ]
    }
   ],
   "source": [
    "hjorth_comp = compute_hjorth(scp1_data)\n",
    "print(np.mean(hjorth_comp))\n",
    "print(np.std(hjorth_comp))"
   ]
  },
  {
   "cell_type": "code",
   "execution_count": 55,
   "metadata": {},
   "outputs": [
    {
     "data": {
      "application/vnd.jupyter.widget-view+json": {
       "model_id": "f9ee3facf7d84066baf00eb0a79416d6",
       "version_major": 2,
       "version_minor": 0
      },
      "text/plain": [
       "  0%|          | 0/268 [00:00<?, ?it/s]"
      ]
     },
     "metadata": {},
     "output_type": "display_data"
    },
    {
     "name": "stdout",
     "output_type": "stream",
     "text": [
      "1.261386006968414\n",
      "0.04350515023781878\n"
     ]
    }
   ],
   "source": [
    "higuchi_fd = compute_higuchi_fd(scp1_data)\n",
    "print(np.mean(higuchi_fd))\n",
    "print(np.std(higuchi_fd))"
   ]
  },
  {
   "cell_type": "code",
   "execution_count": 39,
   "metadata": {},
   "outputs": [
    {
     "name": "stderr",
     "output_type": "stream",
     "text": [
      "/home/amiftakhova/bimai/InterpretGatedNetwork/data_provider/data_loader.py:676: FutureWarning: DataFrame.applymap has been deprecated. Use DataFrame.map instead.\n",
      "  lengths = df.applymap(\n",
      "/home/amiftakhova/bimai/InterpretGatedNetwork/data_provider/data_loader.py:684: FutureWarning: DataFrame.applymap has been deprecated. Use DataFrame.map instead.\n",
      "  lengths = df.applymap(lambda x: len(x)).values\n"
     ]
    },
    {
     "name": "stdout",
     "output_type": "stream",
     "text": [
      "316\n",
      "2.3816290606191157\n",
      "0.08587819594274718\n"
     ]
    }
   ],
   "source": [
    "root_path = '/media/ssd-3t/amiftakhova/bimai/FingerMovements'\n",
    "fm_data = UEAloader(root_path, flag=\"TRAIN\")\n",
    "\n",
    "ent = compute_perm_entropy(fm_data)\n",
    "print(np.mean(ent))\n",
    "print(np.std(ent))"
   ]
  },
  {
   "cell_type": "code",
   "execution_count": 49,
   "metadata": {},
   "outputs": [
    {
     "data": {
      "application/vnd.jupyter.widget-view+json": {
       "model_id": "f764b55b521a4546a19d87f5d40cbb0a",
       "version_major": 2,
       "version_minor": 0
      },
      "text/plain": [
       "  0%|          | 0/316 [00:00<?, ?it/s]"
      ]
     },
     "metadata": {},
     "output_type": "display_data"
    },
    {
     "name": "stdout",
     "output_type": "stream",
     "text": [
      "1.2925666043224135\n",
      "0.1094102564147077\n"
     ]
    }
   ],
   "source": [
    "hjorth_comp = compute_hjorth(fm_data)\n",
    "print(np.mean(hjorth_comp))\n",
    "print(np.std(hjorth_comp))"
   ]
  },
  {
   "cell_type": "code",
   "execution_count": 56,
   "metadata": {},
   "outputs": [
    {
     "data": {
      "application/vnd.jupyter.widget-view+json": {
       "model_id": "6c38e1da764145e497a507b3e8b8f87d",
       "version_major": 2,
       "version_minor": 0
      },
      "text/plain": [
       "  0%|          | 0/316 [00:00<?, ?it/s]"
      ]
     },
     "metadata": {},
     "output_type": "display_data"
    },
    {
     "name": "stdout",
     "output_type": "stream",
     "text": [
      "1.8823083683331243\n",
      "0.10835740150592661\n"
     ]
    }
   ],
   "source": [
    "higuchi_fd = compute_higuchi_fd(fm_data)\n",
    "print(np.mean(higuchi_fd))\n",
    "print(np.std(higuchi_fd))"
   ]
  },
  {
   "cell_type": "code",
   "execution_count": 40,
   "metadata": {},
   "outputs": [
    {
     "name": "stderr",
     "output_type": "stream",
     "text": [
      "/home/amiftakhova/bimai/InterpretGatedNetwork/data_provider/data_loader.py:676: FutureWarning: DataFrame.applymap has been deprecated. Use DataFrame.map instead.\n",
      "  lengths = df.applymap(\n",
      "/home/amiftakhova/bimai/InterpretGatedNetwork/data_provider/data_loader.py:684: FutureWarning: DataFrame.applymap has been deprecated. Use DataFrame.map instead.\n",
      "  lengths = df.applymap(lambda x: len(x)).values\n"
     ]
    },
    {
     "name": "stdout",
     "output_type": "stream",
     "text": [
      "200\n",
      "2.1595408223569077\n",
      "0.17721932707826726\n"
     ]
    }
   ],
   "source": [
    "root_path = '/media/ssd-3t/amiftakhova/bimai/SelfRegulationSCP2'\n",
    "scp2_data = UEAloader(root_path, flag=\"TRAIN\")\n",
    "\n",
    "ent = compute_perm_entropy(scp2_data)\n",
    "print(np.mean(ent))\n",
    "print(np.std(ent))"
   ]
  },
  {
   "cell_type": "code",
   "execution_count": 50,
   "metadata": {},
   "outputs": [
    {
     "data": {
      "application/vnd.jupyter.widget-view+json": {
       "model_id": "66e332d01a144011b2cc0ab864006251",
       "version_major": 2,
       "version_minor": 0
      },
      "text/plain": [
       "  0%|          | 0/200 [00:00<?, ?it/s]"
      ]
     },
     "metadata": {},
     "output_type": "display_data"
    },
    {
     "name": "stdout",
     "output_type": "stream",
     "text": [
      "1.2461339752470848\n",
      "0.04178811608491713\n"
     ]
    }
   ],
   "source": [
    "hjorth_comp = compute_hjorth(scp2_data)\n",
    "print(np.mean(hjorth_comp))\n",
    "print(np.std(hjorth_comp))"
   ]
  },
  {
   "cell_type": "code",
   "execution_count": 57,
   "metadata": {},
   "outputs": [
    {
     "data": {
      "application/vnd.jupyter.widget-view+json": {
       "model_id": "77ef260933b4468dbab77f3588e3a1ab",
       "version_major": 2,
       "version_minor": 0
      },
      "text/plain": [
       "  0%|          | 0/200 [00:00<?, ?it/s]"
      ]
     },
     "metadata": {},
     "output_type": "display_data"
    },
    {
     "name": "stdout",
     "output_type": "stream",
     "text": [
      "1.2791163803006225\n",
      "0.06690589667100214\n"
     ]
    }
   ],
   "source": [
    "higuchi_fd = compute_higuchi_fd(scp2_data)\n",
    "print(np.mean(higuchi_fd))\n",
    "print(np.std(higuchi_fd))"
   ]
  },
  {
   "cell_type": "code",
   "execution_count": null,
   "metadata": {},
   "outputs": [],
   "source": []
  }
 ],
 "metadata": {
  "kernelspec": {
   "display_name": "Python 3",
   "language": "python",
   "name": "python3"
  },
  "language_info": {
   "codemirror_mode": {
    "name": "ipython",
    "version": 3
   },
   "file_extension": ".py",
   "mimetype": "text/x-python",
   "name": "python",
   "nbconvert_exporter": "python",
   "pygments_lexer": "ipython3",
   "version": "3.12.11"
  }
 },
 "nbformat": 4,
 "nbformat_minor": 2
}
